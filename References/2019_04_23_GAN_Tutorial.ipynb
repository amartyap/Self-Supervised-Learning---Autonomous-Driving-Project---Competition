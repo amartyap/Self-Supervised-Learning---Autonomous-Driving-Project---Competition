{
  "nbformat": 4,
  "nbformat_minor": 0,
  "metadata": {
    "accelerator": "GPU",
    "colab": {
      "name": "2019-04-23 GAN Tutorial",
      "provenance": [],
      "collapsed_sections": [
        "jdh_P4DKoNup",
        "48JIxr6HoXH6"
      ]
    },
    "kernelspec": {
      "display_name": "Python 3",
      "language": "python",
      "name": "python3"
    },
    "language_info": {
      "codemirror_mode": {
        "name": "ipython",
        "version": 3
      },
      "file_extension": ".py",
      "mimetype": "text/x-python",
      "name": "python",
      "nbconvert_exporter": "python",
      "pygments_lexer": "ipython3",
      "version": "3.6.6"
    }
  },
  "cells": [
    {
      "cell_type": "markdown",
      "metadata": {
        "colab_type": "text",
        "id": "lT63quvgri0L"
      },
      "source": [
        "* This jupyter notebook lives in https://github.com/tomsercu/gan-tutorial-pytorch\n",
        "* [Launch on Google Colab!](https://colab.research.google.com/github/tomsercu/gan-tutorial-pytorch/blob/master/2019-04-23%20GAN%20Tutorial.ipynb)\n",
        "* This tutorial was presented at the [NYC AI & ML meetup](https://www.meetup.com/NYC-Artificial-Intelligence-Machine-Learning/events/260064765/) on April 23d 2019."
      ]
    },
    {
      "cell_type": "markdown",
      "metadata": {
        "id": "IgrveB9eZ3DU",
        "colab_type": "text"
      },
      "source": [
        "# Preliminaries"
      ]
    },
    {
      "cell_type": "markdown",
      "metadata": {
        "id": "1F03HewzZ3DU",
        "colab_type": "text"
      },
      "source": [
        "\n",
        "We have the ambitious goal for this tutorial to be an introduction to both\n",
        "* Generative Adversarial Networks (GANs) and\n",
        "* deep learning with pytorch\n",
        "\n",
        "Since GANs are a more advanced topic in deep learning, we will introduce the deep learning concepts at an intuitive level in function of GANs, and focus on how they're implemented in pytorch.\n",
        "We will translate GAN / deep learning concepts in code as soon as possible.\n",
        "In the code we try to strip away complexity and abstractions, to make it easier to absorb the concepts.\n",
        "The resulting code is minimalistic and very explicit, designed for learning, *not* for running real experiments.\n",
        "\n",
        "Here is what you will learn:\n",
        "* GANs are generative models that learn to generate data, based on a min-max/adversarial game between a Generator (G) and Discriminator (D).\n",
        "* The parameters of both Generator and Discriminator are optimized with Stochastic Gradient Descent (SGD), for which the gradients of a loss function with respect to the neural network parameters are easily computed with pytorch's autograd. This is at the core of deep learning.\n",
        "* How these concepts translate into pytorch code for GAN optimization.\n",
        "\n",
        "Overview of the tutorial:\n",
        "1. GAN intro\n",
        "2. Defining the neural networks in pytorch, computing a forward pass\n",
        "3. Optimization with SGD - linear regression example\n",
        "4. Training our GAN"
      ]
    },
    {
      "cell_type": "markdown",
      "metadata": {
        "id": "c7cmm_KVZ3DV",
        "colab_type": "text"
      },
      "source": [
        "# Some cool demos:\n",
        "* Progress over the last 5 years, from [Ian Goodfellow tweet](https://twitter.com/goodfellow_ian/status/1084973596236144640)\n",
        "\n",
        "![tweet image](https://github.com/tomsercu/gan-tutorial-pytorch/blob/master/figs/goodfellow_tweet.jpg?raw=1)\n",
        "\n",
        "* CycleGAN translating horses into zebras: https://www.youtube.com/watch?v=9reHvktowLY\n",
        "* CycleGAN teaser: ![cyclegan teaser image](https://github.com/tomsercu/gan-tutorial-pytorch/blob/master/figs/cyclegan_teaser_high_res.jpg?raw=1)\n",
        "* High resolution faces with StyleGAN https://www.youtube.com/watch?v=kSLJriaOumA\n",
        "* https://ganbreeder.app web-interface to create images based on [BigGan](https://arxiv.org/abs/1809.11096)\n"
      ]
    },
    {
      "cell_type": "markdown",
      "metadata": {
        "id": "mmQTcB6ZZ3DV",
        "colab_type": "text"
      },
      "source": [
        "# 1. GAN first introduction\n",
        "[GAN picture](figs/gan_xavigiro.png)\n",
        "\n",
        "<img src=\"https://github.com/tomsercu/gan-tutorial-pytorch/blob/master/figs/gan_xavigiro.png?raw=1\" alt=\"GAN picture\" style=\"width: 700px;\"/>\n",
        "\n",
        "GANs are a class of unsupervised generative models which implicitly model the data density.\n",
        "\n",
        "The basic setup is pictured above. There are two \"competing\" neural networks:\n",
        "* The Generator wants to learn to generate realistic images that are indistinguishable from the real data. \n",
        "    - *input*: Gaussian noise random sample. *output*: a (higher dimensional) datapoint\n",
        "* The Discriminator wants to tell the real & fake images apart.\n",
        "    - *input*: datapoint/image, *output*: probability assigned to datapoint being real. Think binary classifier.\n",
        "* The typical analogy: the generator is like a counterfeiter trying to look like real, the discriminator is the police trying to tell counterfeits from the real work.\n",
        "* The key novelty of GANs is to pass the error signal (gradients) from the discriminator to the generator: the generator neural network uses the information from the competing discriminator neural network to know how to produce more realistic output."
      ]
    },
    {
      "cell_type": "markdown",
      "metadata": {
        "id": "an4BmRLrZ3DW",
        "colab_type": "text"
      },
      "source": [
        "Let's start with defining the generator G and discriminator D in pytorch."
      ]
    },
    {
      "cell_type": "markdown",
      "metadata": {
        "id": "vOFWtsDkZ3DW",
        "colab_type": "text"
      },
      "source": [
        "# 2. Define the neural networks in pytorch"
      ]
    },
    {
      "cell_type": "code",
      "metadata": {
        "colab_type": "code",
        "id": "fHza7chYecM4",
        "colab": {}
      },
      "source": [
        "# if running on colab, pytorch is already installed.\n",
        "# if running locally, conda or pip install this in your conda environment:\n",
        "# conda install pytorch torchvision -c pytorch\n",
        "# OR\n",
        "# pip3 install torch torchvision\n",
        "# I'll be assuming python >=3.6 and torch 1.0.1 which currently are the colab defaults."
      ],
      "execution_count": 0,
      "outputs": []
    },
    {
      "cell_type": "code",
      "metadata": {
        "colab_type": "code",
        "id": "ropMkTLTiWos",
        "colab": {}
      },
      "source": [
        "import sys\n",
        "print(sys.version) # python 3.6\n",
        "import torch\n",
        "import torch.nn as nn\n",
        "import torchvision.datasets\n",
        "import torchvision.transforms as transforms\n",
        "import torch.nn.functional as F\n",
        "import torchvision.utils as vutils\n",
        "print(torch.__version__) # 1.0.1\n",
        "\n",
        "%matplotlib inline\n",
        "import matplotlib.pyplot as plt\n",
        "\n",
        "def show_imgs(x, new_fig=True):\n",
        "    grid = vutils.make_grid(x.detach().cpu(), nrow=8, normalize=True, pad_value=0.3)\n",
        "    grid = grid.transpose(0,2).transpose(0,1) # channels as last dimension\n",
        "    if new_fig:\n",
        "        plt.figure()\n",
        "    plt.imshow(grid.numpy())"
      ],
      "execution_count": 0,
      "outputs": []
    },
    {
      "cell_type": "markdown",
      "metadata": {
        "colab_type": "text",
        "id": "zgfEx8YN0BDF"
      },
      "source": [
        "## torch basics"
      ]
    },
    {
      "cell_type": "markdown",
      "metadata": {
        "id": "WcFNi90YZ3Dd",
        "colab_type": "text"
      },
      "source": [
        "PyTorch is a package that defines vectors, matrices, or in general \"tensors\". If you know numpy, you will not be surprised by any of these:"
      ]
    },
    {
      "cell_type": "code",
      "metadata": {
        "colab_type": "code",
        "id": "UmvFvWHJ0GQ1",
        "colab": {}
      },
      "source": [
        "a = torch.ones(3,3)\n",
        "a"
      ],
      "execution_count": 0,
      "outputs": []
    },
    {
      "cell_type": "code",
      "metadata": {
        "colab_type": "code",
        "id": "Mur2vsHp0GmX",
        "colab": {}
      },
      "source": [
        "b = torch.arange(9).float().view(3,3)\n",
        "b"
      ],
      "execution_count": 0,
      "outputs": []
    },
    {
      "cell_type": "code",
      "metadata": {
        "colab_type": "code",
        "id": "_hQiSHvW0G2v",
        "colab": {}
      },
      "source": [
        "(a+b)**2"
      ],
      "execution_count": 0,
      "outputs": []
    },
    {
      "cell_type": "code",
      "metadata": {
        "id": "UX4tU46jZ3Dm",
        "colab_type": "code",
        "colab": {}
      },
      "source": [
        "b[:,0]"
      ],
      "execution_count": 0,
      "outputs": []
    },
    {
      "cell_type": "code",
      "metadata": {
        "id": "PHBaJI_RZ3Do",
        "colab_type": "code",
        "colab": {}
      },
      "source": [
        "a.zero_() # operations with an underscore modify the Tensor in place.\n",
        "a"
      ],
      "execution_count": 0,
      "outputs": []
    },
    {
      "cell_type": "markdown",
      "metadata": {
        "id": "dyqxB1n5Z3Dq",
        "colab_type": "text"
      },
      "source": [
        "You can slice and dice tensors and they have roughly all tensor operations you expect equivalently to numpy, but with a bit more low level control. If you need more intro: https://pytorch.org/tutorials/beginner/blitz/tensor_tutorial.html#sphx-glr-beginner-blitz-tensor-tutorial-py\n",
        "\n",
        "So what's the big deal about pytorch?\n",
        "\n",
        "**autograd = automatic differentiation** which allows to compute derivatives of a computation sequence (graph) automatically. More about this later."
      ]
    },
    {
      "cell_type": "markdown",
      "metadata": {
        "id": "TwYWEG3-Z3Dr",
        "colab_type": "text"
      },
      "source": [
        "## Defining the neural networks"
      ]
    },
    {
      "cell_type": "markdown",
      "metadata": {
        "id": "Gcycxs-0Z3Dr",
        "colab_type": "text"
      },
      "source": [
        "Let's define a small 2-layer fully connected neural network (so one hidden layer) for the discriminator `D`:"
      ]
    },
    {
      "cell_type": "code",
      "metadata": {
        "id": "714AxQEuZ3Ds",
        "colab_type": "code",
        "colab": {}
      },
      "source": [
        "class Discriminator(torch.nn.Module):\n",
        "    def __init__(self, inp_dim=784):\n",
        "        super(Discriminator, self).__init__()\n",
        "        self.fc1 = nn.Linear(inp_dim, 128)\n",
        "        self.nonlin1 = nn.LeakyReLU(0.2)\n",
        "        self.fc2 = nn.Linear(128, 1)\n",
        "    def forward(self, x):\n",
        "        x = x.view(x.size(0), 784) # flatten (bs x 1 x 28 x 28) -> (bs x 784)\n",
        "        h = self.nonlin1(self.fc1(x))\n",
        "        out = self.fc2(h)\n",
        "        out = torch.sigmoid(out)\n",
        "        return out"
      ],
      "execution_count": 0,
      "outputs": []
    },
    {
      "cell_type": "markdown",
      "metadata": {
        "id": "KyENTQXhZ3Du",
        "colab_type": "text"
      },
      "source": [
        "And a small 2-layer neural network for the generator `G`. `G` takes a 100-dimensional noise vector and generates an output of the size matching the data."
      ]
    },
    {
      "cell_type": "code",
      "metadata": {
        "id": "qncIXYtoZ3Dv",
        "colab_type": "code",
        "colab": {}
      },
      "source": [
        "class Generator(nn.Module):\n",
        "    def __init__(self, z_dim=100):\n",
        "        super(Generator, self).__init__()\n",
        "        self.fc1 = nn.Linear(z_dim, 128)\n",
        "        self.nonlin1 = nn.LeakyReLU(0.2)\n",
        "        self.fc2 = nn.Linear(128, 784)\n",
        "    def forward(self, x):\n",
        "        h = self.nonlin1(self.fc1(x))\n",
        "        out = self.fc2(h)\n",
        "        out = torch.tanh(out) # range [-1, 1]\n",
        "        # convert to image \n",
        "        out = out.view(out.size(0), 1, 28, 28)\n",
        "        return out\n",
        "    "
      ],
      "execution_count": 0,
      "outputs": []
    },
    {
      "cell_type": "code",
      "metadata": {
        "id": "F3XFKvv4Z3Dx",
        "colab_type": "code",
        "colab": {}
      },
      "source": [
        "# instantiate a Generator and Discriminator according to their class definition.\n",
        "D = Discriminator()\n",
        "print(D)\n",
        "G = Generator()\n",
        "print(G)"
      ],
      "execution_count": 0,
      "outputs": []
    },
    {
      "cell_type": "markdown",
      "metadata": {
        "id": "IPbqFhY4Z3Dz",
        "colab_type": "text"
      },
      "source": [
        "Note that the dimensions of D input and G output were defined for MNIST data."
      ]
    },
    {
      "cell_type": "markdown",
      "metadata": {
        "id": "7p0fRPC6Z3D0",
        "colab_type": "text"
      },
      "source": [
        "## Testing the neural networks (forward pass)"
      ]
    },
    {
      "cell_type": "code",
      "metadata": {
        "id": "zVfUCaDUZ3D0",
        "colab_type": "code",
        "colab": {}
      },
      "source": [
        "# A small batch of 3 samples, all zeros.\n",
        "samples = torch.randn(5, 1, 28, 28) # batch size x channels x width x height\n",
        "# This is how to do a forward pass (calls the .forward() function under the hood)\n",
        "D(samples)"
      ],
      "execution_count": 0,
      "outputs": []
    },
    {
      "cell_type": "markdown",
      "metadata": {
        "id": "DFPkUoSZZ3D2",
        "colab_type": "text"
      },
      "source": [
        "Things to try:\n",
        "* What happens if you change the number of samples in a batch?\n",
        "* What happens if you change the width/height of the input?\n",
        "* What are the weights of the discriminator? You can get an iterator over them with `.parameters()` and `.named_parameters()`"
      ]
    },
    {
      "cell_type": "code",
      "metadata": {
        "id": "TcaloFf2Z3D2",
        "colab_type": "code",
        "colab": {}
      },
      "source": [
        "for name, p in D.named_parameters():\n",
        "    print(name, p.shape)"
      ],
      "execution_count": 0,
      "outputs": []
    },
    {
      "cell_type": "markdown",
      "metadata": {
        "id": "rAb9bp2FZ3D4",
        "colab_type": "text"
      },
      "source": [
        "We will think of the concatentation of all these discriminator weights in one big vector as $\\theta_D$.\n",
        "\n",
        "Similarly we name the concatentation of all the generator weights in one big vector $\\theta_G$."
      ]
    },
    {
      "cell_type": "code",
      "metadata": {
        "id": "iL8GLnF6Z3D4",
        "colab_type": "code",
        "colab": {}
      },
      "source": [
        "for name, p in G.named_parameters():\n",
        "    print(name, p.shape)"
      ],
      "execution_count": 0,
      "outputs": []
    },
    {
      "cell_type": "code",
      "metadata": {
        "id": "HRU36Ut8Z3D7",
        "colab_type": "code",
        "colab": {}
      },
      "source": [
        "# A small batch of 2 samples, random noise.\n",
        "z = torch.randn(2, 100)\n",
        "# This is how to do a forward pass (calls the .forward() function under the hood)\n",
        "x_gen = G(z)\n",
        "x_gen.shape"
      ],
      "execution_count": 0,
      "outputs": []
    },
    {
      "cell_type": "code",
      "metadata": {
        "id": "CvHhY6w4Z3D-",
        "colab_type": "code",
        "colab": {}
      },
      "source": [
        "z = torch.randn(2, 100)\n",
        "show_imgs(G(z))"
      ],
      "execution_count": 0,
      "outputs": []
    },
    {
      "cell_type": "markdown",
      "metadata": {
        "id": "PfrmwzxiZ3EA",
        "colab_type": "text"
      },
      "source": [
        "## Loading the data and computing forward pass"
      ]
    },
    {
      "cell_type": "code",
      "metadata": {
        "colab_type": "code",
        "id": "PH8zthzBhjKS",
        "colab": {}
      },
      "source": [
        "# let's download the Fashion MNIST data, if you do this locally and you downloaded before,\n",
        "# you can change data paths to point to your existing files\n",
        "# dataset = torchvision.datasets.MNIST(root='./MNISTdata', ...)\n",
        "dataset = torchvision.datasets.FashionMNIST(root='./FashionMNIST/',\n",
        "                       transform=transforms.Compose([transforms.ToTensor(),\n",
        "                                                     transforms.Normalize((0.5,), (0.5,))]),\n",
        "                       download=True)\n",
        "dataloader = torch.utils.data.DataLoader(dataset, batch_size=64, shuffle=True)"
      ],
      "execution_count": 0,
      "outputs": []
    },
    {
      "cell_type": "markdown",
      "metadata": {
        "colab_type": "text",
        "id": "CNjVlTt87ou1"
      },
      "source": [
        "Dataset and DataLoader are abstractions to help us iterate over the data in random order."
      ]
    },
    {
      "cell_type": "markdown",
      "metadata": {
        "id": "YgPJku_xZ3ED",
        "colab_type": "text"
      },
      "source": [
        "Let's look at a sample:"
      ]
    },
    {
      "cell_type": "code",
      "metadata": {
        "id": "qVBojK-QZ3ED",
        "colab_type": "code",
        "colab": {}
      },
      "source": [
        "ix=149\n",
        "x, _ = dataset[ix]\n",
        "plt.matshow(x.squeeze().numpy(), cmap=plt.cm.gray)\n",
        "plt.colorbar()"
      ],
      "execution_count": 0,
      "outputs": []
    },
    {
      "cell_type": "markdown",
      "metadata": {
        "id": "V0PKUg8GZ3EF",
        "colab_type": "text"
      },
      "source": [
        "Feed the image into the discriminator; the output will be the probability the (untrained) discriminator assigns to this sample being real."
      ]
    },
    {
      "cell_type": "code",
      "metadata": {
        "id": "BVWHgWGYZ3EF",
        "colab_type": "code",
        "colab": {}
      },
      "source": [
        "# for one image:\n",
        "Dscore = D(x)\n",
        "Dscore"
      ],
      "execution_count": 0,
      "outputs": []
    },
    {
      "cell_type": "code",
      "metadata": {
        "id": "wRxAuJdOZ3EH",
        "colab_type": "code",
        "colab": {}
      },
      "source": [
        "# How you can get a batch of images from the dataloader:\n",
        "xbatch, _ = iter(dataloader).next() # 64 x 1 x 28 x 28: minibatch of 64 samples\n",
        "xbatch.shape\n",
        "D(xbatch) # 64x1 tensor: 64 predictions of probability of input being real.\n",
        "D(xbatch).shape"
      ],
      "execution_count": 0,
      "outputs": []
    },
    {
      "cell_type": "code",
      "metadata": {
        "id": "mbW9-f5hZ3EJ",
        "colab_type": "code",
        "colab": {}
      },
      "source": [
        "show_imgs(xbatch)"
      ],
      "execution_count": 0,
      "outputs": []
    },
    {
      "cell_type": "code",
      "metadata": {
        "id": "EvHUaFmrZ3EL",
        "colab_type": "code",
        "colab": {}
      },
      "source": [
        ""
      ],
      "execution_count": 0,
      "outputs": []
    },
    {
      "cell_type": "code",
      "metadata": {
        "id": "y0gmusyIZ3EO",
        "colab_type": "code",
        "colab": {}
      },
      "source": [
        ""
      ],
      "execution_count": 0,
      "outputs": []
    },
    {
      "cell_type": "markdown",
      "metadata": {
        "id": "01OaXlcSZ3EQ",
        "colab_type": "text"
      },
      "source": [
        "# 3 Intermezzo: optimization with SGD - linear regression example"
      ]
    },
    {
      "cell_type": "markdown",
      "metadata": {
        "id": "EshsTIEIZ3ER",
        "colab_type": "text"
      },
      "source": [
        "We will step away from GANs for a second to introduce the core of deep learning: optimization with SGD.\n",
        "\n",
        "Here are the core components of a basic deep learning classifier/regression setup:\n",
        "* a neural network $\\hat{y}=f(x, \\theta)$, which takes an input $x$ and parameters $\\theta$, and outputs $\\hat{y}$, a prediction of label $y$.\n",
        "* a loss function $\\mathcal{L}(\\theta) = \\mathbb{E}_{x,y \\sim p_d} \\ell(f(x, \\theta), y) \\approx \\sum_{x_i,y_i \\sim mb} \\ell(f(x_i, \\theta), y_i)$.\n",
        "* optimizing $\\theta$ to reduce the loss, by making small updates to $\\theta$ in the direction of $-\\nabla_\\theta \\mathcal{L}(\\theta)$.\n",
        "\n",
        "pytorch is designed around these core components:\n",
        "* The way to define a neural network is with `torch.nn.Module`, see how we defined the Discriminator and Generator above.\n",
        "    - a `Module` defines (1) its weights and (2) defines the operations done with them.\n",
        "    - initializing a module initializes the weights at random\n",
        "* $\\theta$ stands for all our neural network weights (everything you get from `.parameters()`)\n",
        "* In the optimization loop you will evaluate a \"minibatch\" of samples (in our case 64) to compute the neural network output, and the loss measuring how far away those predictions are from the truth.\n",
        "* To compute the gradient $\\nabla_\\theta \\mathcal{L}(\\theta)$, you call `.backward()` on the loss. This is where the magic happens: the gradient wrt all weights in the neural network is computed. They appear in a new Tensor `p.grad` for each `p in net.parameters()`\n",
        "    - under the hood, this happens by keeping track of the computational graph, and reversing the computation order to \"backpropagate\" the loss with the chain rule.\n",
        "    - [Figure which shows a bit more detail](https://tom.sercu.me/assets/201812CCNY/NN_fig.pdf)"
      ]
    },
    {
      "cell_type": "markdown",
      "metadata": {
        "id": "9oigWfrfZ3ER",
        "colab_type": "text"
      },
      "source": [
        "A side note about optimization:\n",
        "- optimization through small consecutive steps along the gradient $-\\nabla_\\theta \\mathcal{L}(\\theta)$ is called gradient descent, the stochastic version is stochastic gradient descent (SGD).\n",
        "- (S)GD is probably the simplest optimization algorithm, you can do much more complex things like combining gradients along multiple timesteps, take curvature information into account, etc.\n",
        "- in deep learning, SGD and (adaptive learning rate) variations like Adam are the workhorse.\n",
        "- [This distill.pub article](https://distill.pub/2017/momentum/) has nice visualizations and analysis of SGD with momentum."
      ]
    },
    {
      "cell_type": "markdown",
      "metadata": {
        "id": "xVwg5Cl7Z3ER",
        "colab_type": "text"
      },
      "source": [
        "### 3a: basic autograd example\n",
        "\n",
        "So we said the big deal about pytorch (or other deep learning package) is **autograd = automatic differentiation** which allows to compute derivatives automatically.\n",
        "\n",
        "Every `torch.Tensor`, let's say `x`, has an important flag `requires_grad`. If this flag is set to True, pytorch will keep track of the graph of operations that happen with this tensor.\n",
        "When we finally arrive at some output (a scalar variable based on a sequence of operations on `x`), we can call `.backward()` on this output, to compute the gradient `d(output) / dx`. This gradient will end up in `x.grad`."
      ]
    },
    {
      "cell_type": "code",
      "metadata": {
        "id": "YB73WbP6Z3ES",
        "colab_type": "code",
        "colab": {}
      },
      "source": [
        "x = torch.randn(2,2, requires_grad=True)\n",
        "x"
      ],
      "execution_count": 0,
      "outputs": []
    },
    {
      "cell_type": "code",
      "metadata": {
        "id": "Y1C8GCY9Z3ET",
        "colab_type": "code",
        "colab": {}
      },
      "source": [
        "# no gradient yet at this point:\n",
        "print(x.grad)"
      ],
      "execution_count": 0,
      "outputs": []
    },
    {
      "cell_type": "code",
      "metadata": {
        "id": "MPqfH5rSZ3EW",
        "colab_type": "code",
        "colab": {}
      },
      "source": [
        "y=(x**2 + x)\n",
        "z = y.sum()\n",
        "z"
      ],
      "execution_count": 0,
      "outputs": []
    },
    {
      "cell_type": "markdown",
      "metadata": {
        "id": "ZN4cBNjlZ3EZ",
        "colab_type": "text"
      },
      "source": [
        "We know from high school math that the derivative `dz / dx[i,j]` = 2*x[i,j] +1"
      ]
    },
    {
      "cell_type": "code",
      "metadata": {
        "id": "iatV02KpZ3EZ",
        "colab_type": "code",
        "colab": {}
      },
      "source": [
        "z.backward()\n",
        "x.grad"
      ],
      "execution_count": 0,
      "outputs": []
    },
    {
      "cell_type": "code",
      "metadata": {
        "id": "R-irosSkZ3Eb",
        "colab_type": "code",
        "colab": {}
      },
      "source": [
        "2*x+1"
      ],
      "execution_count": 0,
      "outputs": []
    },
    {
      "cell_type": "markdown",
      "metadata": {
        "id": "-g36D_huZ3Ec",
        "colab_type": "text"
      },
      "source": [
        "You can play with this: you can introduce any tensor operation here; for example `torch.exp(torch.sin(x**2))`. Confirm that the gradient matches the analytical derivative."
      ]
    },
    {
      "cell_type": "markdown",
      "metadata": {
        "id": "3u6Y5vQwZ3Ed",
        "colab_type": "text"
      },
      "source": [
        "More about autograd in the tutorial https://pytorch.org/tutorials/beginner/blitz/autograd_tutorial.html#sphx-glr-beginner-blitz-autograd-tutorial-py and the docs https://pytorch.org/docs/stable/autograd.html\n",
        "\n",
        "\n",
        "This was a very basic example of what pytorch autograd does for us: computing the derivatives of a scalar function $z(x)$ wrt $x$: $\\nabla_x z(x)$.\n",
        "In a deep learning context this will be at the basis of our optimization; now we will have\n",
        "* $\\mathcal{L}(\\theta)$  the loss is a (scalar) function of neural network parameters (vector) $\\theta$.\n",
        "* autograd will allow us to call `.backward()` on the loss, which will compute the gradient of the loss with respect to neural network parameters $\\nabla_\\theta \\mathcal{L}(\\theta)$.\n",
        "* For each of the parameters `p` the gradient will be in `p.grad`\n",
        "* Can you confirm that for the parameters of G/D, the flag `.requires_grad` is `True`?"
      ]
    },
    {
      "cell_type": "code",
      "metadata": {
        "id": "QS4J3_F8Z3Ed",
        "colab_type": "code",
        "colab": {}
      },
      "source": [
        "for p in G.parameters():\n",
        "    print(p.grad)"
      ],
      "execution_count": 0,
      "outputs": []
    },
    {
      "cell_type": "markdown",
      "metadata": {
        "id": "c0uyHASFZ3Ef",
        "colab_type": "text"
      },
      "source": [
        "### 3b: Linear regression"
      ]
    },
    {
      "cell_type": "markdown",
      "metadata": {
        "id": "3xAuOA9eZ3Ef",
        "colab_type": "text"
      },
      "source": [
        "Let's try this for a simple linear mapping `y = f(x, theta) = <x, theta>` with $x, \\theta \\in \\mathbb{R}^{2}$. We we want to optimize $\\theta$:"
      ]
    },
    {
      "cell_type": "code",
      "metadata": {
        "id": "Hc3-rAspZ3Ef",
        "colab_type": "code",
        "colab": {}
      },
      "source": [
        "torch.manual_seed(23231)\n",
        "x1 = torch.Tensor([1, 2, 3, -3, -2])\n",
        "y = torch.Tensor ([3, 6, 9, -9, -6]).view(5,1)\n",
        "x2 = torch.randn(5)\n",
        "x = torch.stack([x1, x2], dim=1) # 5 x 2 input. 5 datapoints, 2 dimensions.\n",
        "# theta = torch.randn(1,2, requires_grad=True) # ~equal to:\n",
        "theta = torch.nn.Parameter(torch.randn(1,2))\n",
        "# we start theta at random initialization, the gradient will point us in the right direction.\n",
        "print('x:\\n', x)\n",
        "print('y:\\n', y)\n",
        "print('theta at random initialization: ', theta)\n",
        "thetatrace = [theta.data.clone()] # initial value, for logging"
      ],
      "execution_count": 0,
      "outputs": []
    },
    {
      "cell_type": "markdown",
      "metadata": {
        "id": "0aqEO33kZ3Eh",
        "colab_type": "text"
      },
      "source": [
        "Take a look at x and y. What is their correct (linear) relationship?\n",
        "\n",
        "A: `y = 3 x1 + 0 x2`"
      ]
    },
    {
      "cell_type": "markdown",
      "metadata": {
        "id": "P6XZaDikZ3Eh",
        "colab_type": "text"
      },
      "source": [
        "Now we define a prediction as a linear mapping $\\hat{y} = (X . \\theta)$\n",
        "\n",
        "We will compute the ordinary least squares objective (mean squared error):  $\\mathcal{L}(\\theta) = (\\hat{y}(x,\\theta) - y)^2$\n",
        "\n",
        "Compute $\\nabla_\\theta \\mathcal{L}(\\theta)$, and\n",
        "\n",
        "Move $\\theta$ a small step opposite to that direction"
      ]
    },
    {
      "cell_type": "code",
      "metadata": {
        "id": "ifKk6hfAZ3Eh",
        "colab_type": "code",
        "colab": {}
      },
      "source": [
        "ypred = x @ theta.t() # matrix multiply; (N x 2) * (2 x 1) -> N x 1\n",
        "print('ypred:\\n', ypred)\n",
        "loss = ((ypred-y)**2).mean() # mean squared error = MSE\n",
        "print('mse loss: ', loss.item())\n",
        "loss.backward()\n",
        "print('dL / d theta:\\n', theta.grad)\n",
        "# let's move W in that direction\n",
        "theta.data.add_(-0.1 * theta.grad.data)\n",
        "# Now we will reset the gradient to zero.\n",
        "theta.grad.zero_()\n",
        "print('theta:\\n', theta)\n",
        "thetatrace.append(theta.data.clone()) # for logging"
      ],
      "execution_count": 0,
      "outputs": []
    },
    {
      "cell_type": "markdown",
      "metadata": {
        "id": "La0J4gluZ3Ej",
        "colab_type": "text"
      },
      "source": [
        "You can re-execute this cell above a couple of times and see how $\\theta$ goes close towards the optimal value of `[3,0]`."
      ]
    },
    {
      "cell_type": "code",
      "metadata": {
        "id": "dFVN2_OsZ3Ek",
        "colab_type": "code",
        "colab": {}
      },
      "source": [
        "# Now let us plot in 2D what happened to theta during SGD optimization. In red is the true relation.\n",
        "thetas = torch.cat(thetatrace, dim=0).numpy()\n",
        "plt.figure()\n",
        "plt.plot(thetas[:,0], thetas[:, 1], 'x-')\n",
        "plt.plot(3, 0, 'ro')\n",
        "plt.xlabel('theta[0]')\n",
        "plt.ylabel('theta[1]')"
      ],
      "execution_count": 0,
      "outputs": []
    },
    {
      "cell_type": "markdown",
      "metadata": {
        "colab_type": "text",
        "id": "w00A5MF07pIw"
      },
      "source": [
        "Ok, doing this manually gives you insight what happens down to the details. But usually we do not do the gradient updates manually, it would become very cumbersome if the net becomes more complex than the simple linear layer. pytorch gives us abstractions to easily manage this complexity: \n",
        "* `nn.Linear()` (or generally  `Module`s) which do two things: (a) they contain the learnable weight, and (b) define how they operate on an input tensor to give an output.\n",
        "* `module.zero_grad()` to clear the gradients, \n",
        "* `optim.SGD` with which you can do `optimizer.step()` to do a step of SGD."
      ]
    },
    {
      "cell_type": "code",
      "metadata": {
        "id": "dn_I5AMOZ3Em",
        "colab_type": "code",
        "colab": {}
      },
      "source": [
        "torch.manual_seed(23801)\n",
        "net = nn.Linear(2,1, bias=False)\n",
        "optimizer = torch.optim.SGD(net.parameters(), lr=0.1) # do updates with `optimizer.step()`\n",
        "# x, y defined above. In a real problem we would typically get different x, y \"minibatches\"\n",
        "# of samples from a dataloader.\n",
        "for i in range(100): # 10 optimization steps (gradient descent steps)\n",
        "    ypred = net(x)\n",
        "    loss = ((ypred-y)**2).mean() # mean squared error = MSE\n",
        "    optimizer.zero_grad()\n",
        "    loss.backward()\n",
        "    # and instead of W.data -= 0.1 * W.grad we do:\n",
        "    optimizer.step()\n",
        "print(net.weight)"
      ],
      "execution_count": 0,
      "outputs": []
    },
    {
      "cell_type": "markdown",
      "metadata": {
        "id": "I0-wM54zZ3Eo",
        "colab_type": "text"
      },
      "source": [
        "Indeed this is very close to the optimal $\\theta=[3,0]$."
      ]
    },
    {
      "cell_type": "code",
      "metadata": {
        "id": "50j-LkUFZ3Eo",
        "colab_type": "code",
        "colab": {}
      },
      "source": [
        ""
      ],
      "execution_count": 0,
      "outputs": []
    },
    {
      "cell_type": "markdown",
      "metadata": {
        "id": "6x5SOp0oZ3Eq",
        "colab_type": "text"
      },
      "source": [
        "# 4. Back to GANs: The min-max game."
      ]
    },
    {
      "cell_type": "markdown",
      "metadata": {
        "id": "OfQZoKzrZ3Er",
        "colab_type": "text"
      },
      "source": [
        "We introduced and defined the generator G, the discriminator D, and the dataloader which will give us minibatches of real data. With the intermezzo on optimization we also understand how we optimize neural networks in pytorch.\n",
        "\n",
        "To recap the basic idea of the min-max / adversarial game:\n",
        "* The Generator and Discriminator have competing objectives, they are \"adversaries\".\n",
        "* The Discriminator wants to assign high probability to real images and low probability to generated (fake) images\n",
        "* The Generator wants its generated images to look real, so wants to modify its outputs to get high scores from the Discriminator\n",
        "* We will optimize both alternatingly, with SGD steps (as before): optimize $\\theta_D$ the weights of $D(x, \\theta_D)$, and  $\\theta_G$ the weights of $G(z, \\theta_G)$.\n",
        "* Final goal of the whole min-max game is for the Generator to match the data distribution: $p_G(x) \\approx p_{data}(x)$.\n",
        "\n",
        "\n",
        "Now what are the objective functions for each of them? As mentioned in the introduction, the objective for the discriminator is to classify the real images as real, so $D(x) = 1$, and the fake images as fake, so $D(G(z))=0$.\n",
        "This is a typical binary classification problem which calls for the binary cross-entropy (BCE) loss, which encourages exactly this solution.\n",
        "\n",
        "For G we just try to minimize the same loss that D maximizes. See how G appears inside D? This shows how the output of the generator G is passed into the Discriminator to compute the loss.\n",
        "\n",
        "\n",
        "This is the optimization problem:\n",
        "\n",
        "$$\n",
        "\\min _{G} \\max _{D} V(D, G)=\\mathbb{E}_{\\boldsymbol{x} \\sim p_{\\text { data }}(\\boldsymbol{x})}[\\log D(\\boldsymbol{x})]+\\mathbb{E}_{\\boldsymbol{z} \\sim p_{\\boldsymbol{z}}(\\boldsymbol{z})}[\\log (1-D(G(\\boldsymbol{z})))]\n",
        "$$\n",
        "\n",
        "We will do a single SGD step alternatingly to maximize D, then minimize G.\n",
        "In fact for G we use a modified (non-saturing) loss $-\\log D(G(z))$. Different modifications of the loss and the relation to the distance between distributions $p_{data}$ and $p_{G}$ became a topic of research over the last years.\n",
        "\n"
      ]
    },
    {
      "cell_type": "code",
      "metadata": {
        "id": "ShWNJr7kZ3Er",
        "colab_type": "code",
        "colab": {}
      },
      "source": [
        "# Remember we have defined the discriminator and generator as:\n",
        "D = Discriminator()\n",
        "print(D)\n",
        "G = Generator()\n",
        "print(G)\n",
        "# Now let's set up the optimizers\n",
        "optimizerD = torch.optim.SGD(D.parameters(), lr=0.01)\n",
        "optimizerG = torch.optim.SGD(G.parameters(), lr=0.01)"
      ],
      "execution_count": 0,
      "outputs": []
    },
    {
      "cell_type": "code",
      "metadata": {
        "id": "lU3MoYOgZ3Et",
        "colab_type": "code",
        "colab": {}
      },
      "source": [
        "# and the BCE criterion which computes the loss above:\n",
        "criterion = nn.BCELoss()"
      ],
      "execution_count": 0,
      "outputs": []
    },
    {
      "cell_type": "code",
      "metadata": {
        "id": "bdj3A8CjZ3Ex",
        "colab_type": "code",
        "colab": {}
      },
      "source": [
        "# STEP 1: Discriminator optimization step\n",
        "x_real, _ = iter(dataloader).next()\n",
        "lab_real = torch.ones(64, 1)\n",
        "lab_fake = torch.zeros(64, 1)\n",
        "# reset accumulated gradients from previous iteration\n",
        "optimizerD.zero_grad()\n",
        "\n",
        "D_x = D(x_real)\n",
        "lossD_real = criterion(D_x, lab_real)\n",
        "\n",
        "z = torch.randn(64, 100) # random noise, 64 samples, z_dim=100\n",
        "x_gen = G(z).detach()\n",
        "D_G_z = D(x_gen)\n",
        "lossD_fake = criterion(D_G_z, lab_fake)\n",
        "\n",
        "lossD = lossD_real + lossD_fake\n",
        "lossD.backward()\n",
        "optimizerD.step()\n",
        "\n",
        "# print(D_x.mean().item(), D_G_z.mean().item())"
      ],
      "execution_count": 0,
      "outputs": []
    },
    {
      "cell_type": "markdown",
      "metadata": {
        "id": "skJIj2kyZ3Ey",
        "colab_type": "text"
      },
      "source": [
        "Some things to think about / try out / investigate:\n",
        "* what are the mean probabilities for real and fake? print them and see how they change when executing the cell above a couple of times. Does this correspond to your expectation?\n",
        "* can you confirm how the use of the criterion maps to the objective stated above?\n",
        "* when calling backward, the derivative of the loss wrt **what** gets computed?\n",
        "* what does `.detach()` do? Are the Generator parameters' gradients computed?"
      ]
    },
    {
      "cell_type": "code",
      "metadata": {
        "id": "9d_m_s4bZ3Ez",
        "colab_type": "code",
        "colab": {}
      },
      "source": [
        "# STEP 2: Generator optimization step\n",
        "# note how only one of the terms involves the Generator so this is the only one that matters for G.\n",
        "# reset accumulated gradients from previous iteration\n",
        "optimizerG.zero_grad()\n",
        "\n",
        "z = torch.randn(64, 100) # random noise, 64 samples, z_dim=100\n",
        "D_G_z = D(G(z))\n",
        "lossG = criterion(D_G_z, lab_real) # -log D(G(z))\n",
        "\n",
        "lossG.backward()\n",
        "optimizerG.step()\n",
        "\n",
        "print(D_G_z.mean().item())"
      ],
      "execution_count": 0,
      "outputs": []
    },
    {
      "cell_type": "markdown",
      "metadata": {
        "id": "YdzeXiooZ3E1",
        "colab_type": "text"
      },
      "source": [
        "Again run this cell a couple of times. See how the generator increases its Discriminator score?\n",
        "\n",
        "Some more things to ponder:\n",
        "* Do the Generator parameters now receive gradients? Why (compared to previous loop)?\n",
        "* From the definition of BCE loss confirm that this comes down to $-\\log D(G(z))$"
      ]
    },
    {
      "cell_type": "markdown",
      "metadata": {
        "id": "cL4ANULPZ3E1",
        "colab_type": "text"
      },
      "source": [
        "### Putting it all together: the full training loop\n",
        "\n",
        "Modifications to the code:\n",
        "* add device parameter to take GPU if available\n",
        "* use [Adam optimizer](https://pytorch.org/docs/stable/optim.html#torch.optim.Adam) (an adaptive learning-rate variation of SGD with momentum)\n",
        "* some very minimal logging"
      ]
    },
    {
      "cell_type": "code",
      "metadata": {
        "id": "KM-7dvinZ3E1",
        "colab_type": "code",
        "colab": {}
      },
      "source": [
        "device = torch.device('cuda') if torch.cuda.is_available() else torch.device('cpu')\n",
        "print('Device: ', device)\n",
        "# Re-initialize D, G:\n",
        "D = Discriminator().to(device)\n",
        "G = Generator().to(device)\n",
        "# Now let's set up the optimizers (Adam, better than SGD for this)\n",
        "optimizerD = torch.optim.SGD(D.parameters(), lr=0.03)\n",
        "optimizerG = torch.optim.SGD(G.parameters(), lr=0.03)\n",
        "# optimizerD = torch.optim.Adam(D.parameters(), lr=0.0002)\n",
        "# optimizerG = torch.optim.Adam(G.parameters(), lr=0.0002)\n",
        "lab_real = torch.ones(64, 1, device=device)\n",
        "lab_fake = torch.zeros(64, 1, device=device)\n",
        "\n",
        "\n",
        "# for logging:\n",
        "collect_x_gen = []\n",
        "fixed_noise = torch.randn(64, 100, device=device)\n",
        "fig = plt.figure() # keep updating this one\n",
        "plt.ion()\n",
        "\n",
        "for epoch in range(3): # 10 epochs\n",
        "    for i, data in enumerate(dataloader, 0):\n",
        "        # STEP 1: Discriminator optimization step\n",
        "        x_real, _ = iter(dataloader).next()\n",
        "        x_real = x_real.to(device)\n",
        "        # reset accumulated gradients from previous iteration\n",
        "        optimizerD.zero_grad()\n",
        "\n",
        "        D_x = D(x_real)\n",
        "        lossD_real = criterion(D_x, lab_real)\n",
        "\n",
        "        z = torch.randn(64, 100, device=device) # random noise, 64 samples, z_dim=100\n",
        "        x_gen = G(z).detach()\n",
        "        D_G_z = D(x_gen)\n",
        "        lossD_fake = criterion(D_G_z, lab_fake)\n",
        "\n",
        "        lossD = lossD_real + lossD_fake\n",
        "        lossD.backward()\n",
        "        optimizerD.step()\n",
        "        \n",
        "        # STEP 2: Generator optimization step\n",
        "        # reset accumulated gradients from previous iteration\n",
        "        optimizerG.zero_grad()\n",
        "\n",
        "        z = torch.randn(64, 100, device=device) # random noise, 64 samples, z_dim=100\n",
        "        x_gen = G(z)\n",
        "        D_G_z = D(x_gen)\n",
        "        lossG = criterion(D_G_z, lab_real) # -log D(G(z))\n",
        "\n",
        "        lossG.backward()\n",
        "        optimizerG.step()\n",
        "        if i % 100 == 0:\n",
        "            x_gen = G(fixed_noise)\n",
        "            show_imgs(x_gen, new_fig=False)\n",
        "            fig.canvas.draw()\n",
        "            print('e{}.i{}/{} last mb D(x)={:.4f} D(G(z))={:.4f}'.format(\n",
        "                epoch, i, len(dataloader), D_x.mean().item(), D_G_z.mean().item()))\n",
        "    # End of epoch\n",
        "    x_gen = G(fixed_noise)\n",
        "    collect_x_gen.append(x_gen.detach().clone())"
      ],
      "execution_count": 0,
      "outputs": []
    },
    {
      "cell_type": "code",
      "metadata": {
        "scrolled": false,
        "id": "gKKIudpEZ3E3",
        "colab_type": "code",
        "colab": {}
      },
      "source": [
        "for x_gen in collect_x_gen:\n",
        "    show_imgs(x_gen)"
      ],
      "execution_count": 0,
      "outputs": []
    },
    {
      "cell_type": "markdown",
      "metadata": {
        "id": "a4DN3N27Z3E5",
        "colab_type": "text"
      },
      "source": [
        "# A demo of a state of the art GAN and \"painting\" with them in your browser:\n",
        "\n",
        "https://gandissect.csail.mit.edu\n",
        "\n",
        "By our colleagues at the MIT-IBM Watson AI Lab.\n"
      ]
    },
    {
      "cell_type": "markdown",
      "metadata": {
        "id": "TBpvfn8OZ3E6",
        "colab_type": "text"
      },
      "source": [
        "# Where to go from here\n",
        "* Improvements to make on the current training loop: use `optim.Adam` instead of SGD, define bigger networks, add logging (check out tensorboardX) and monitor losses.\n",
        "* Use a more exciting datasets - check out [the pytorch torchvision.datasets](https://pytorch.org/docs/stable/torchvision/datasets.html) to get started quickly.\n",
        "* The [original GAN paper](https://papers.nips.cc/paper/5423-generative-adversarial-nets)\n",
        "* The [DCGAN paper](https://arxiv.org/abs/1511.06434) which made it all work much better for images. Start from: pytorch DCGAN [example](https://github.com/pytorch/examples/blob/master/dcgan/main.py) and [tutorial](https://pytorch.org/tutorials/beginner/dcgan_faces_tutorial.html)\n",
        "* Newer generations of loss functions measure different distances between distributions $p_{data}$ and $p_G$. For example [WGAN](https://github.com/martinarjovsky/WassersteinGAN), [WGAN-GP](https://arxiv.org/abs/1704.00028), [Fisher GAN](https://arxiv.org/abs/1705.09675), [Sobolev GAN](https://arxiv.org/abs/1711.04894), many more. They often have better stability properties wrt the original GAN loss.\n",
        "\n",
        "# References for this tutorial\n",
        "* pytorch DCGAN [example](https://github.com/pytorch/examples/blob/master/dcgan/main.py) and [tutorial](https://pytorch.org/tutorials/beginner/dcgan_faces_tutorial.html) by Nathan Inkawhich\n",
        "* [Medium blog post](https://medium.com/ai-society/gans-from-scratch-1-a-deep-introduction-with-code-in-pytorch-and-tensorflow-cb03cdcdba0f) by Diego Gomez Mosquera\n",
        "* [Material made for ITDS course at CUNY](https://github.com/grantmlong/itds2019/blob/master/lecture-6/DL_lab_solutions.ipynb) by Tom Sercu (that's me!)\n",
        "* [Blog post](https://towardsdatascience.com/graduating-in-gans-going-from-understanding-generative-adversarial-networks-to-running-your-own-39804c283399) by Cecelia Shao\n",
        "* [GAN overview image](https://www.slideshare.net/xavigiro/deep-learning-for-computer-vision-generative-models-and-adversarial-training-upc-2016) from Xavier Giro"
      ]
    },
    {
      "cell_type": "code",
      "metadata": {
        "id": "xDvYzQBcZ3E6",
        "colab_type": "code",
        "colab": {}
      },
      "source": [
        ""
      ],
      "execution_count": 0,
      "outputs": []
    },
    {
      "cell_type": "code",
      "metadata": {
        "id": "tCy60hGUZ3E8",
        "colab_type": "code",
        "colab": {}
      },
      "source": [
        ""
      ],
      "execution_count": 0,
      "outputs": []
    },
    {
      "cell_type": "code",
      "metadata": {
        "id": "PiD1hoxDZ3E9",
        "colab_type": "code",
        "colab": {}
      },
      "source": [
        ""
      ],
      "execution_count": 0,
      "outputs": []
    },
    {
      "cell_type": "code",
      "metadata": {
        "colab_type": "code",
        "id": "HJog1HK1nRf7",
        "colab": {}
      },
      "source": [
        ""
      ],
      "execution_count": 0,
      "outputs": []
    }
  ]
}